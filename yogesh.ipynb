{
 "cells": [
  {
   "cell_type": "code",
   "execution_count": 1,
   "metadata": {},
   "outputs": [],
   "source": [
    "import csv\n",
    "import re\n",
    "import json\n",
    "import matplotlib.pyplot as plt\n",
    "import pandas as pd\n",
    "import networkx as nx\n",
    "from collections import OrderedDict\n",
    "import itertools"
   ]
  },
  {
   "cell_type": "code",
   "execution_count": 2,
   "metadata": {},
   "outputs": [
    {
     "name": "stdout",
     "output_type": "stream",
     "text": [
      "['4719', '4720', '4721', '4722', '14', '4723', '1020', '4724', '4725', '4726', '4727', '4728', '4729', '1286', '4730', '4731', '4732', '4733', '4734', '4735', '4736', '4737', '1075']\n"
     ]
    }
   ],
   "source": [
    "def create_friends_dict():\n",
    "    # this dictionnary contains every user's list of friends using user IDs\n",
    "    friends_dict={}\n",
    "    with open('data/friends.csv', 'r') as file:\n",
    "        csvreader = csv.reader(file)\n",
    "        for line in csvreader:\n",
    "            if len(line) == 2:\n",
    "                if line[0] in friends_dict:\n",
    "                    # append the new number to the existing array at this slot\n",
    "                    friends_dict[line[0]].append(line[1])\n",
    "                else:\n",
    "                    # create a new array in this slot\n",
    "                    friends_dict[line[0]] = [line[1]]\n",
    "        return friends_dict\n",
    "\n",
    "friends_dict = create_friends_dict()\n",
    "\n",
    "\n",
    "print(friends_dict['360'])\n"
   ]
  },
  {
   "cell_type": "code",
   "execution_count": 3,
   "metadata": {},
   "outputs": [],
   "source": [
    "def create_concerts_amount_dict():\n",
    "    #this dictionnary contains the number of concerts for one genre\n",
    "    concert_numbers={}\n",
    "    with open('data/n_concerts.txt', 'r') as f:\n",
    "        lines = f.readlines()\n",
    "        for l in lines:\n",
    "            x=re.search('([\\w| |/|&|-]+):([0-9]+)',l)\n",
    "            if x:\n",
    "                concert_numbers[x.group(1)]=[x.group(2)][0]\n",
    "    return concert_numbers\n",
    "\n",
    "concert_numbers = create_concerts_amount_dict()\n",
    "# call e.g: print('number of classical concerts: ',concert_numbers['Classical'])"
   ]
  },
  {
   "cell_type": "code",
   "execution_count": 4,
   "metadata": {},
   "outputs": [],
   "source": [
    "with open('data/preferences.json', 'r') as f:\n",
    "  preferences_data = json.load(f)"
   ]
  },
  {
   "cell_type": "code",
   "execution_count": 5,
   "metadata": {},
   "outputs": [],
   "source": [
    "with open('data/preferences_description.txt') as f:\n",
    "  pref_des_data_lines = f.readlines()"
   ]
  },
  {
   "cell_type": "code",
   "execution_count": 6,
   "metadata": {},
   "outputs": [
    {
     "data": {
      "text/plain": [
       "['Indie Rock/Rock pop', 'Baroque', 'Nursery Rhymes', 'Hard Rock']"
      ]
     },
     "execution_count": 6,
     "metadata": {},
     "output_type": "execute_result"
    }
   ],
   "source": [
    "# get the genres a user likes using their ID\n",
    "def genres_of_id(id):\n",
    "  genres_num=[]\n",
    "  genres=[]\n",
    "  preferences=preferences_data[str(id)]\n",
    "  for i in range(len(preferences)):\n",
    "    if preferences[i]=='1':\n",
    "      genres_num.append(i)\n",
    "  for num in genres_num:\n",
    "    genres.append(pref_des_data_lines[num+2].rstrip())\n",
    "  return(genres)\n",
    "  \n",
    "genres_of_id(1)\n",
    "# call: genres_of_id(1612)"
   ]
  },
  {
   "cell_type": "code",
   "execution_count": 7,
   "metadata": {},
   "outputs": [
    {
     "data": {
      "text/plain": [
       "33.91200000000002"
      ]
     },
     "execution_count": 7,
     "metadata": {},
     "output_type": "execute_result"
    }
   ],
   "source": [
    "# calculates the number of concert two friends (id1,id2) are attending together\n",
    "def concerts_of_friends(id1,id2):\n",
    "  total_number_of_concert=0\n",
    "  # calculates the number of concert for every genre they both like\n",
    "  genres_both_like= [element for element in genres_of_id(id1) if element in genres_of_id(id2)]\n",
    "  for g in genres_both_like:\n",
    "    total_number_of_concert+=0.393*float(concert_numbers[g])\n",
    "  # calculates the number of concert for every genre only one of them likes\n",
    "  genres_one_likes=list(set(genres_of_id(id1)).symmetric_difference(genres_of_id(id2)))\n",
    "  for g in genres_one_likes:\n",
    "    total_number_of_concert+=0.018*float(concert_numbers[g])\n",
    "  genres=concert_numbers.keys()\n",
    "  # calculates the number of concert for every genre none of them likes\n",
    "  genres_none_like=[element for element in genres if element not in list(set(genres_both_like)|set(genres_one_likes))]\n",
    "  for g in genres_none_like:\n",
    "    total_number_of_concert+=0.002*float(concert_numbers[g])\n",
    "  return total_number_of_concert\n",
    "\n",
    "concerts_of_friends(4,4)\n",
    "# call: concerts_of_friends(360,4719)"
   ]
  },
  {
   "cell_type": "code",
   "execution_count": 8,
   "metadata": {},
   "outputs": [
    {
     "data": {
      "text/plain": [
       "212.222"
      ]
     },
     "execution_count": 8,
     "metadata": {},
     "output_type": "execute_result"
    }
   ],
   "source": [
    "def all_concerts_of_user(id):\n",
    "  res=0\n",
    "  for friend in friends_dict[str(id)]:\n",
    "    res += concerts_of_friends(id,int(friend))\n",
    "  return res\n",
    "  \n",
    "all_concerts_of_user(360)"
   ]
  },
  {
   "cell_type": "code",
   "execution_count": 9,
   "metadata": {},
   "outputs": [
    {
     "name": "stdout",
     "output_type": "stream",
     "text": [
      "24\n"
     ]
    }
   ],
   "source": [
    "def get_concert_number(concert):\n",
    "  #retrieving number of concerts\n",
    "  #this dictionnary contains the number of concerts for one genre\n",
    "  concert_numbers={}\n",
    "  with open('data/n_concerts.txt', 'r') as f:\n",
    "      lines = f.readlines()\n",
    "      for l in lines:\n",
    "        x=re.search('([\\w| |/|&|-]+):([0-9]+)',l)\n",
    "        if x:\n",
    "          concert_numbers[x.group(1)]=[x.group(2)][0]\n",
    "\n",
    "  return concert_numbers[concert]\n",
    "print(get_concert_number('Classical'))"
   ]
  },
  {
   "cell_type": "code",
   "execution_count": 10,
   "metadata": {},
   "outputs": [],
   "source": [
    "def create_textfile_of_percentage_with(unsorted_dict, type, percentage):\n",
    "\n",
    "    # sorted dict of useres and number of concerts they go to\n",
    "    weights_of_users_list = sorted(unsorted_dict.items(), key=lambda x:x[1], reverse=True)\n",
    "\n",
    "    # 12% threshold\n",
    "    twelve_tresh = int(len(weights_of_users_list)*percentage)\n",
    "    # create a string of users\n",
    "    long_string = \"\"\n",
    "    for counter in range (twelve_tresh):\n",
    "        user = weights_of_users_list[counter]\n",
    "        long_string += str(user[0])+\"\\n\"\n",
    "\n",
    "    # write into txt file\n",
    "    filename = type + '_team_8.txt'\n",
    "    with open(filename, 'w') as f:\n",
    "        f.write(long_string)\n",
    "    f.close()\n",
    "\n"
   ]
  },
  {
   "cell_type": "code",
   "execution_count": 11,
   "metadata": {},
   "outputs": [],
   "source": [
    "def create_network():\n",
    "    # create an empty graph\n",
    "    G = nx.Graph()\n",
    "    terminator = len(friends_dict.keys()) / 1\n",
    "\n",
    "    # add nodes to the graph representing individual people\n",
    "    for counter, user in enumerate(friends_dict.keys()):\n",
    "        if counter == int(terminator):\n",
    "            print(int(terminator))\n",
    "            break\n",
    "        G.add_node(user)\n",
    "    print(1)\n",
    "    \n",
    "    nodes = G.nodes()\n",
    "\n",
    "    for user in friends_dict.keys():\n",
    "        #print(\"User\", user)\n",
    "        #go through all friends between user\n",
    "        friends_of_user = friends_dict[user]\n",
    "        \n",
    "        for friend in friends_of_user:\n",
    "            if not G.has_edge(user,friend):\n",
    "                weight = concerts_of_friends(int(user),int(friend))\n",
    "                G.add_edge(user, friend,weight=1/weight)\n",
    "\n",
    "    print(2)\n",
    "    print('num of nodes',G.number_of_nodes())\n",
    "    print('num of edges',G.number_of_edges())\n",
    "\n",
    "    return G"
   ]
  },
  {
   "cell_type": "code",
   "execution_count": 12,
   "metadata": {},
   "outputs": [
    {
     "name": "stdout",
     "output_type": "stream",
     "text": [
      "1\n",
      "2\n",
      "num of nodes 8311\n",
      "num of edges 55483\n"
     ]
    }
   ],
   "source": [
    "G = create_network()"
   ]
  },
  {
   "cell_type": "code",
   "execution_count": 13,
   "metadata": {},
   "outputs": [],
   "source": [
    "def create_naive_userlist(percent):\n",
    "    # user concerts with friends sorted\n",
    "    weights_of_users = OrderedDict({})\n",
    "    # fill dict\n",
    "    for user in friends_dict.keys():\n",
    "        weights_of_users[user] = all_concerts_of_user(int(user))\n",
    "        \n",
    "    create_textfile_of_percentage_with(weights_of_users, 'naive', percent)\n"
   ]
  },
  {
   "cell_type": "code",
   "execution_count": 14,
   "metadata": {},
   "outputs": [],
   "source": [
    "def create_closeness_centrality_userlist(graph, percent):\n",
    "    closeness_centrality = nx.closeness_centrality(graph, distance= 'weight')\n",
    "    create_textfile_of_percentage_with(closeness_centrality, 'closeness_centrality', percent)\n"
   ]
  },
  {
   "cell_type": "code",
   "execution_count": 22,
   "metadata": {},
   "outputs": [],
   "source": [
    "def create_betweenness_centrality_userlist(graph, percent):\n",
    "    betweenness_centrality = nx.betweenness_centrality(graph, weight= 'weight')\n",
    "    create_textfile_of_percentage_with(betweenness_centrality, 'betweenness_centrality', percent)"
   ]
  },
  {
   "cell_type": "code",
   "execution_count": 27,
   "metadata": {},
   "outputs": [],
   "source": [
    "def create_eigenvector_centrality_userlist(graph, percent):\n",
    "    eigenvector_centrality = nx.eigenvector_centrality(graph, max_iter=600, weight= 'weight')\n",
    "    create_textfile_of_percentage_with(eigenvector_centrality, 'eigenvector_centrality', percent)"
   ]
  },
  {
   "cell_type": "code",
   "execution_count": 17,
   "metadata": {},
   "outputs": [],
   "source": [
    "create_naive_userlist(percent=1.00)"
   ]
  },
  {
   "cell_type": "code",
   "execution_count": 18,
   "metadata": {},
   "outputs": [],
   "source": [
    "create_closeness_centrality_userlist(graph = G, percent=1.00)"
   ]
  },
  {
   "cell_type": "code",
   "execution_count": 24,
   "metadata": {},
   "outputs": [],
   "source": [
    "create_betweenness_centrality_userlist(graph = G, percent=1.00)"
   ]
  },
  {
   "cell_type": "code",
   "execution_count": 28,
   "metadata": {},
   "outputs": [],
   "source": [
    "create_eigenvector_centrality_userlist(graph = G, percent=1.00)"
   ]
  }
 ],
 "metadata": {
  "kernelspec": {
   "display_name": "Python 3.10.8 64-bit (microsoft store)",
   "language": "python",
   "name": "python3"
  },
  "language_info": {
   "codemirror_mode": {
    "name": "ipython",
    "version": 3
   },
   "file_extension": ".py",
   "mimetype": "text/x-python",
   "name": "python",
   "nbconvert_exporter": "python",
   "pygments_lexer": "ipython3",
   "version": "3.9.13"
  },
  "orig_nbformat": 4,
  "vscode": {
   "interpreter": {
    "hash": "541e896b51b936199f095fa9f652933270c17ed08d4b1543e2f5052de8d37832"
   }
  }
 },
 "nbformat": 4,
 "nbformat_minor": 2
}
