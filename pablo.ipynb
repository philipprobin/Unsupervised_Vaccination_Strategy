{
 "cells": [
  {
   "attachments": {},
   "cell_type": "markdown",
   "metadata": {},
   "source": [
    "# Week 1: It is starting.\n"
   ]
  },
  {
   "cell_type": "code",
   "execution_count": 10,
   "metadata": {},
   "outputs": [
    {
     "name": "stdout",
     "output_type": "stream",
     "text": [
      "user 360's friends list:  ['4719', '4720', '4721', '4722', '14', '4723', '1020', '4724', '4725', '4726', '4727', '4728', '4729', '1286', '4730', '4731', '4732', '4733', '4734', '4735', '4736', '4737', '1075']\n",
      "number of classical concerts:  24\n"
     ]
    }
   ],
   "source": [
    "#retrieving friends lists\n",
    "\n",
    "import csv\n",
    "import re\n",
    "\n",
    "#initializing dictionnary of friends\n",
    "#this dictionnary contains every user's list of friends using user IDs\n",
    "friends_dict={}\n",
    "with open('friends.csv', newline='') as csvfile:\n",
    "    reader = csv.DictReader(csvfile)\n",
    "    for row in reader:\n",
    "      friends_dict[row['# Friendship between two user IDs is indicated by a comma-separated entry.']]=[]\n",
    "\n",
    "#filling the dictionnary\n",
    "with open('friends.csv', newline='') as csvfile:\n",
    "    reader = csv.DictReader(csvfile)\n",
    "    for row in reader:\n",
    "      friends_dict[row['# Friendship between two user IDs is indicated by a comma-separated entry.']].append(row[None][0])\n",
    "\n",
    "print('user 360\\'s friends list: ',friends_dict['360'])\n",
    "\n",
    "\n",
    "#retrieving number of concerts\n",
    "\n",
    "#this dictionnary contains the number of concerts for one genre\n",
    "concert_numbers={}\n",
    "with open('n_concerts.txt', 'r') as f:\n",
    "    lines = f.readlines()\n",
    "    for l in lines:\n",
    "      x=re.search('([\\w| |/|&|-]+):([0-9]+)',l)\n",
    "      if x:\n",
    "        concert_numbers[x.group(1)]=[x.group(2)][0]\n",
    "\n",
    "print('number of classical concerts: ',concert_numbers['Classical'])"
   ]
  },
  {
   "cell_type": "code",
   "execution_count": 8,
   "metadata": {},
   "outputs": [
    {
     "name": "stdout",
     "output_type": "stream",
     "text": [
      "['Romantic', 'Contemporary Soul', 'Baroque', 'Urban Cowboy', 'Asian Music', 'Tropical', 'Film Scores', 'Grime', 'Brazilian Music', 'Bollywood', 'Nursery Rhymes', 'Ranchera', 'Oldschool R&B', 'Soul & Funk', 'Electro', 'Films/Games', 'Hard Rock']\n"
     ]
    }
   ],
   "source": [
    "# retrieving preferences\n",
    "\n",
    "import json\n",
    "\n",
    "# get the genres a user likes using their ID\n",
    "def getGenresFromId(id):\n",
    "  genresNum=[]\n",
    "  genres=[]\n",
    "  with open('preferences.json', 'r') as f:\n",
    "    data = json.load(f)\n",
    "    preferences=data[str(id)]\n",
    "  for i in range(len(preferences)):\n",
    "    if preferences[i]=='1':\n",
    "      genresNum.append(i)\n",
    "  with open('preferences_description.txt') as f:\n",
    "    lines = f.readlines()\n",
    "    for num in genresNum:\n",
    "      genres.append(lines[num+2].rstrip())\n",
    "  print(genres)\n",
    "  \n",
    "getGenresFromId(4)"
   ]
  },
  {
   "cell_type": "code",
   "execution_count": null,
   "metadata": {},
   "outputs": [],
   "source": []
  }
 ],
 "metadata": {
  "kernelspec": {
   "display_name": "base",
   "language": "python",
   "name": "python3"
  },
  "language_info": {
   "codemirror_mode": {
    "name": "ipython",
    "version": 3
   },
   "file_extension": ".py",
   "mimetype": "text/x-python",
   "name": "python",
   "nbconvert_exporter": "python",
   "pygments_lexer": "ipython3",
   "version": "3.9.7"
  },
  "orig_nbformat": 4,
  "vscode": {
   "interpreter": {
    "hash": "173e0ed87917be878541cc7a9ef5118c9512a989c120c3e403e460f1da74f757"
   }
  }
 },
 "nbformat": 4,
 "nbformat_minor": 2
}
