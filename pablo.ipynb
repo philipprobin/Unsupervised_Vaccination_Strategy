{
 "cells": [
  {
   "attachments": {},
   "cell_type": "markdown",
   "metadata": {},
   "source": [
    "# Week 1: It is starting.\n"
   ]
  },
  {
   "cell_type": "code",
   "execution_count": null,
   "metadata": {},
   "outputs": [],
   "source": [
    "#retrieving friends lists\n",
    "\n",
    "import csv\n",
    "import re\n",
    "import matplotlib.pyplot as plt\n",
    "\n",
    "#initializing dictionnary of friends\n",
    "#this dictionnary contains every user's list of friends using user IDs\n",
    "friends_dict={}\n",
    "with open('data/friends.csv', newline='') as csvfile:\n",
    "    reader = csv.DictReader(csvfile)\n",
    "    for row in reader:\n",
    "      friends_dict[row['# Friendship between two user IDs is indicated by a comma-separated entry.']]=[]\n",
    "\n",
    "#filling the dictionnary\n",
    "with open('data/friends.csv', newline='') as csvfile:\n",
    "    reader = csv.DictReader(csvfile)\n",
    "    for row in reader:\n",
    "      friends_dict[row['# Friendship between two user IDs is indicated by a comma-separated entry.']].append(row[None][0])\n",
    "\n",
    "print('user 360\\'s friends list: ',friends_dict['1612'])\n",
    "\n",
    "\n",
    "#retrieving number of concerts\n",
    "\n",
    "#this dictionnary contains the number of concerts for one genre\n",
    "concert_numbers={}\n",
    "with open('data/n_concerts.txt', 'r') as f:\n",
    "    lines = f.readlines()\n",
    "    for l in lines:\n",
    "      x=re.search('([\\w| |/|&|-]+):([0-9]+)',l)\n",
    "      if x:\n",
    "        concert_numbers[x.group(1)]=[x.group(2)][0]\n",
    "\n",
    "print('number of classical concerts: ',concert_numbers['Classical'])"
   ]
  },
  {
   "cell_type": "code",
   "execution_count": null,
   "metadata": {},
   "outputs": [],
   "source": [
    "# retrieving preferences\n",
    "\n",
    "import json\n",
    "\n",
    "with open('data/preferences.json', 'r') as f:\n",
    "  preferences_data = json.load(f)\n",
    "\n",
    "with open('data/preferences_description.txt') as f:\n",
    "  pref_des_data_lines = f.readlines()\n",
    "# get the genres a user likes using their ID\n",
    "def getGenresFromId(id):\n",
    "  genresNum=[]\n",
    "  genres=[]\n",
    "  \n",
    "  preferences=preferences_data[str(id)]\n",
    "  for i in range(len(preferences)):\n",
    "    if preferences[i]=='1':\n",
    "      genresNum.append(i)\n",
    "  for num in genresNum:\n",
    "    genres.append(pref_des_data_lines[num+2].rstrip())\n",
    "  return(genres)\n",
    "  \n",
    "getGenresFromId(1612)"
   ]
  },
  {
   "cell_type": "code",
   "execution_count": null,
   "metadata": {},
   "outputs": [],
   "source": [
    "# calculates the number of concert two friends (id1,id2) are attending together\n",
    "def numberOfConcerts2Friends(id1,id2):\n",
    "  total_number_of_concert=0\n",
    "  # calculates the number of concert for every genre they both like\n",
    "  genres_both_like= [element for element in getGenresFromId(id1) if element in getGenresFromId(id2)]\n",
    "  for g in genres_both_like:\n",
    "    total_number_of_concert+=0.393*float(concert_numbers[g])\n",
    "  # calculates the number of concert for every genre only one of them likes\n",
    "  genres_one_likes=list(set(getGenresFromId(id1)).symmetric_difference(getGenresFromId(id2)))\n",
    "  for g in genres_one_likes:\n",
    "    total_number_of_concert+=0.018*float(concert_numbers[g])\n",
    "  genres=concert_numbers.keys()\n",
    "  # calculates the number of concert for every genre none of them likes\n",
    "  genres_none_like=[element for element in genres if element not in list(set(genres_both_like)|set(genres_one_likes))]\n",
    "  for g in genres_none_like:\n",
    "    total_number_of_concert+=0.002*float(concert_numbers[g])\n",
    "  return total_number_of_concert\n",
    "numberOfConcerts2Friends(360,4719)"
   ]
  },
  {
   "cell_type": "code",
   "execution_count": null,
   "metadata": {},
   "outputs": [],
   "source": [
    "def numberOfConcerts1User(id):\n",
    "  res=0\n",
    "  for f in friends_dict[str(id)]:\n",
    "    res+=numberOfConcerts2Friends(id,int(f))\n",
    "  return res\n",
    "  "
   ]
  },
  {
   "cell_type": "code",
   "execution_count": null,
   "metadata": {},
   "outputs": [],
   "source": [
    "from collections import OrderedDict\n",
    "\n",
    "def create_textfile_of_users():\n",
    "    weights_of_users = OrderedDict({})\n",
    "    # fill dict\n",
    "    for user in friends_dict.keys():\n",
    "        weights_of_users[user] = numberOfConcerts1User(int(user))\n",
    "\n",
    "    # sorted dict of useres and number of concerts they go to\n",
    "    weights_of_users_list = sorted(weights_of_users.items(), key=lambda x:x[1], reverse=True)\n",
    "\n",
    "    # 12% threshold\n",
    "    twelve_tresh = int(len(weights_of_users_list)*0.12)\n",
    "    # create a string of users\n",
    "    long_string = \"\"\n",
    "    for counter in range (twelve_tresh):\n",
    "        user = weights_of_users_list[counter]\n",
    "        long_string += str(user[0])+\"\\n\"\n",
    "\n",
    "    # write into txt file\n",
    "    with open('a_team_8.txt', 'w') as f:\n",
    "        f.write(long_string)\n",
    "    f.close()\n"
   ]
  },
  {
   "cell_type": "code",
   "execution_count": null,
   "metadata": {},
   "outputs": [],
   "source": [
    "import networkx as nx\n",
    "def create_network():\n",
    "    # create an empty graph\n",
    "    G = nx.Graph()\n",
    "\n",
    "    # add nodes to the graph representing individual people\n",
    "    for user in friends_dict.keys():\n",
    "        G.add_node(user)\n",
    "    \n",
    "    # add edges to the graph representing co-visits to concerts\n",
    "    for user in friends_dict.keys():\n",
    "        for friend in friends_dict[user]:\n",
    "            if not G.has_edge(user,friend):\n",
    "                weight=numberOfConcerts2Friends(int(user),int(friend))\n",
    "                G.add_edge(user, friend,weight=weight)\n",
    "    print(G.number_of_edges())\n",
    "    degree_centrality = nx.degree_centrality(G)\n",
    "\n",
    "create_network()\n"
   ]
  }
 ],
 "metadata": {
  "kernelspec": {
   "display_name": "Python 3",
   "language": "python",
   "name": "python3"
  },
  "language_info": {
   "codemirror_mode": {
    "name": "ipython",
    "version": 3
   },
   "file_extension": ".py",
   "mimetype": "text/x-python",
   "name": "python",
   "nbconvert_exporter": "python",
   "pygments_lexer": "ipython3",
   "version": "3.10.9"
  },
  "orig_nbformat": 4,
  "vscode": {
   "interpreter": {
    "hash": "541e896b51b936199f095fa9f652933270c17ed08d4b1543e2f5052de8d37832"
   }
  }
 },
 "nbformat": 4,
 "nbformat_minor": 2
}
