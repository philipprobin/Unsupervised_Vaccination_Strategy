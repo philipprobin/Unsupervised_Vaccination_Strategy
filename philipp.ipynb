{
 "cells": [
  {
   "cell_type": "code",
   "execution_count": 18,
   "metadata": {},
   "outputs": [],
   "source": [
    "import csv\n",
    "import re\n",
    "import pandas as pd\n",
    "import json"
   ]
  },
  {
   "cell_type": "code",
   "execution_count": 19,
   "metadata": {},
   "outputs": [],
   "source": [
    "# GLOBALS\n",
    "\n",
    "# Opening JSON file\n",
    "f = open('data/preferences.json')\n",
    "# returns JSON object as \n",
    "# a dictionary\n",
    "preferences = json.load(f)"
   ]
  },
  {
   "cell_type": "code",
   "execution_count": 10,
   "metadata": {},
   "outputs": [
    {
     "name": "stdout",
     "output_type": "stream",
     "text": [
      "['30', '0', '31', '34', '35', '36']\n"
     ]
    }
   ],
   "source": [
    "#retrieving friends lists\n",
    "\n",
    "def get_friends_list(person_id):\n",
    "  #initializing dictionnary of friends\n",
    "  #this dictionnary contains every user's list of friends using user IDs\n",
    "  friends_dict={}\n",
    "  with open('data/friends.csv', newline='') as csvfile:\n",
    "      reader = csv.DictReader(csvfile)\n",
    "      for row in reader:\n",
    "        friends_dict[row['# Friendship between two user IDs is indicated by a comma-separated entry.']]=[]\n",
    "\n",
    "  #filling the dictionnary\n",
    "  with open('data/friends.csv', newline='') as csvfile:\n",
    "      reader = csv.DictReader(csvfile)\n",
    "      for row in reader:\n",
    "        friends_dict[row['# Friendship between two user IDs is indicated by a comma-separated entry.']].append(row[None][0])\n",
    "\n",
    "  return friends_dict[str(person_id)]\n",
    "\n",
    "print(get_friends_list(1))\n"
   ]
  },
  {
   "cell_type": "code",
   "execution_count": 7,
   "metadata": {},
   "outputs": [
    {
     "name": "stdout",
     "output_type": "stream",
     "text": [
      "24\n"
     ]
    }
   ],
   "source": [
    "def get_concert_number(concert):\n",
    "  #retrieving number of concerts\n",
    "  #this dictionnary contains the number of concerts for one genre\n",
    "  concert_numbers={}\n",
    "  with open('data/n_concerts.txt', 'r') as f:\n",
    "      lines = f.readlines()\n",
    "      for l in lines:\n",
    "        x=re.search('([\\w| |/|&|-]+):([0-9]+)',l)\n",
    "        if x:\n",
    "          concert_numbers[x.group(1)]=[x.group(2)][0]\n",
    "\n",
    "  return concert_numbers[concert]\n",
    "print(get_concert_number('Classical'))"
   ]
  },
  {
   "cell_type": "code",
   "execution_count": 38,
   "metadata": {},
   "outputs": [
    {
     "name": "stdout",
     "output_type": "stream",
     "text": [
      "[False, False, False, False, False, False, False, False, False, False, False, False, False, False, False, False, False, False, False, False, False, False, False, False, False, False, False, False, False, False, False, False, False, False, False, False, False, True, False, False, False, False, False, False, False, False, False, False, False, False, False, False, False, False, False, False, False, False, False, False, False, False, False, False, False, False, True, False, False, False, False, False, False, False, False, False, False, False, False, False, False, False, False, False]\n"
     ]
    }
   ],
   "source": [
    "def get_preferences(person_id):\n",
    "    return [bool(int(char)) for char in preferences[str(person_id)]]\n",
    "\n",
    "print(get_preferences(6))"
   ]
  },
  {
   "cell_type": "code",
   "execution_count": 46,
   "metadata": {},
   "outputs": [
    {
     "name": "stdout",
     "output_type": "stream",
     "text": [
      "    30    0   31   34   35   36   30    0   31   34   35   36\n",
      "1  NaN  NaN  NaN  NaN  NaN  NaN  3.0  1.0  1.0  3.0  0.0  3.0\n"
     ]
    }
   ],
   "source": [
    "# generate df of friends and common genres\n",
    "def common_generes(person_id):\n",
    "    common_generes = pd.DataFrame(index = [person_id], columns=get_friends_list(person_id))\n",
    "    # iterate columns (friends)\n",
    "    for friend in common_generes:\n",
    "        counter = 0\n",
    "        intersection = []\n",
    "        friends_prefs = get_preferences(int(friend))\n",
    "        # iterate prefs\n",
    "        for i, genre in enumerate(get_preferences(person_id)):\n",
    "            # see if both like same genre\n",
    "            if genre and friends_prefs[i]:\n",
    "                counter += 1\n",
    "                intersection.append(i)\n",
    "        common_generes.at[person_id, int(friend)] = counter\n",
    "    return common_generes\n",
    "\n",
    "print(common_generes(1))"
   ]
  }
 ],
 "metadata": {
  "kernelspec": {
   "display_name": "Python 3.10.8 64-bit (microsoft store)",
   "language": "python",
   "name": "python3"
  },
  "language_info": {
   "codemirror_mode": {
    "name": "ipython",
    "version": 3
   },
   "file_extension": ".py",
   "mimetype": "text/x-python",
   "name": "python",
   "nbconvert_exporter": "python",
   "pygments_lexer": "ipython3",
   "version": "3.10.9"
  },
  "orig_nbformat": 4,
  "vscode": {
   "interpreter": {
    "hash": "541e896b51b936199f095fa9f652933270c17ed08d4b1543e2f5052de8d37832"
   }
  }
 },
 "nbformat": 4,
 "nbformat_minor": 2
}
