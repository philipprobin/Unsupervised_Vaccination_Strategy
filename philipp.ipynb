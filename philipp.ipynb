{
 "cells": [
  {
   "cell_type": "code",
   "execution_count": 12,
   "metadata": {},
   "outputs": [],
   "source": [
    "import csv\n",
    "import re\n",
    "import pandas as pd\n",
    "import json\n",
    "from IPython.display import display"
   ]
  },
  {
   "cell_type": "code",
   "execution_count": 2,
   "metadata": {},
   "outputs": [],
   "source": [
    "# GLOBALS\n",
    "\n",
    "# Opening JSON file\n",
    "f = open('data/preferences.json')\n",
    "# returns JSON object as \n",
    "# a dictionary\n",
    "preferences = json.load(f)"
   ]
  },
  {
   "cell_type": "code",
   "execution_count": 3,
   "metadata": {},
   "outputs": [
    {
     "name": "stdout",
     "output_type": "stream",
     "text": [
      "['30', '0', '31', '34', '35', '36']\n"
     ]
    }
   ],
   "source": [
    "#retrieving friends lists\n",
    "\n",
    "def get_friends_list(person_id):\n",
    "  #initializing dictionnary of friends\n",
    "  #this dictionnary contains every user's list of friends using user IDs\n",
    "  friends_dict={}\n",
    "  with open('data/friends.csv', newline='') as csvfile:\n",
    "      reader = csv.DictReader(csvfile)\n",
    "      for row in reader:\n",
    "        friends_dict[row['# Friendship between two user IDs is indicated by a comma-separated entry.']]=[]\n",
    "\n",
    "  #filling the dictionnary\n",
    "  with open('data/friends.csv', newline='') as csvfile:\n",
    "      reader = csv.DictReader(csvfile)\n",
    "      for row in reader:\n",
    "        friends_dict[row['# Friendship between two user IDs is indicated by a comma-separated entry.']].append(row[None][0])\n",
    "\n",
    "  return friends_dict[str(person_id)]\n",
    "\n",
    "print(get_friends_list(1))\n"
   ]
  },
  {
   "cell_type": "code",
   "execution_count": 4,
   "metadata": {},
   "outputs": [
    {
     "name": "stdout",
     "output_type": "stream",
     "text": [
      "24\n"
     ]
    }
   ],
   "source": [
    "def get_concert_number(concert):\n",
    "  #retrieving number of concerts\n",
    "  #this dictionnary contains the number of concerts for one genre\n",
    "  concert_numbers={}\n",
    "  with open('data/n_concerts.txt', 'r') as f:\n",
    "      lines = f.readlines()\n",
    "      for l in lines:\n",
    "        x=re.search('([\\w| |/|&|-]+):([0-9]+)',l)\n",
    "        if x:\n",
    "          concert_numbers[x.group(1)]=[x.group(2)][0]\n",
    "\n",
    "  return concert_numbers[concert]\n",
    "print(get_concert_number('Classical'))"
   ]
  },
  {
   "cell_type": "code",
   "execution_count": 5,
   "metadata": {},
   "outputs": [
    {
     "name": "stdout",
     "output_type": "stream",
     "text": [
      "[False, False, False, False, False, False, False, False, False, False, False, False, False, False, False, False, False, False, False, False, False, False, False, False, False, False, False, False, False, False, False, False, False, False, False, False, False, True, False, False, False, False, False, False, False, False, False, False, False, False, False, False, False, False, False, False, False, False, False, False, False, False, False, False, False, False, True, False, False, False, False, False, False, False, False, False, False, False, False, False, False, False, False, False]\n"
     ]
    }
   ],
   "source": [
    "def get_preferences(person_id):\n",
    "    return [bool(int(char)) for char in preferences[str(person_id)]]\n",
    "\n",
    "print(get_preferences(6))"
   ]
  },
  {
   "cell_type": "code",
   "execution_count": 28,
   "metadata": {},
   "outputs": [
    {
     "data": {
      "text/plain": [
       "{'Classical': '24',\n",
       " 'Folk': '23',\n",
       " 'Jazz Hip Hop': '8',\n",
       " 'Electro Pop/Electro Rock': '24',\n",
       " 'Dancefloor': '36',\n",
       " 'Indie Rock/Rock pop': '38',\n",
       " 'Singer & Songwriter': '30',\n",
       " 'Comedy': '12',\n",
       " 'Musicals': '10',\n",
       " 'Chill Out/Trip-Hop/Lounge': '3',\n",
       " 'Soundtracks': '0',\n",
       " 'Disco': '0',\n",
       " 'Old school soul': '9',\n",
       " 'Rock': '14',\n",
       " 'Romantic': '22',\n",
       " 'Bluegrass': '2',\n",
       " 'Indie Rock': '25',\n",
       " 'Contemporary Soul': '9',\n",
       " 'Blues': '14',\n",
       " 'Old School': '0',\n",
       " 'Baroque': '1',\n",
       " 'Instrumental jazz': '8',\n",
       " 'Urban Cowboy': '0',\n",
       " 'Asian Music': '4',\n",
       " 'Tropical': '0',\n",
       " 'Early Music': '0',\n",
       " 'Classic Blues': '9',\n",
       " 'Indie Pop': '30',\n",
       " 'Bolero': '1',\n",
       " 'Spirituality & Religion': '60',\n",
       " 'Dancehall/Ragga': '10',\n",
       " 'Dance': '8',\n",
       " 'R&B': '24',\n",
       " 'Pop': '29',\n",
       " 'Film Scores': '0',\n",
       " 'Grime': '0',\n",
       " 'Electro Hip Hop': '13',\n",
       " 'Metal': '15',\n",
       " 'West Coast': '12',\n",
       " 'Acoustic Blues': '2',\n",
       " 'Indie Pop/Folk': '18',\n",
       " 'International Pop': '40',\n",
       " 'Sports': '0',\n",
       " 'Trance': '11',\n",
       " 'Ska': '0',\n",
       " 'Brazilian Music': '0',\n",
       " 'Bollywood': '0',\n",
       " 'Nursery Rhymes': '0',\n",
       " 'Alternative Country': '6',\n",
       " 'Indian Music': '1',\n",
       " 'TV shows & movies': '0',\n",
       " 'Dubstep': '22',\n",
       " 'Classical Period': '0',\n",
       " 'Chicago Blues': '0',\n",
       " 'Vocal jazz': '23',\n",
       " 'TV Soundtracks': '0',\n",
       " 'Latin Music': '10',\n",
       " 'Rock & Roll/Rockabilly': '6',\n",
       " 'Delta Blues': '0',\n",
       " 'African Music': '4',\n",
       " 'Opera': '4',\n",
       " 'Ranchera': '0',\n",
       " 'Oldschool R&B': '0',\n",
       " 'Kids & Family': '30',\n",
       " 'Modern': '0',\n",
       " 'Soul & Funk': '8',\n",
       " 'Electro': '20',\n",
       " 'Alternative': '18',\n",
       " 'Dub': '22',\n",
       " 'Electric Blues': '1',\n",
       " 'Rap/Hip Hop': '28',\n",
       " 'Techno/House': '29',\n",
       " 'Country Blues': '13',\n",
       " 'Traditional Country': '2',\n",
       " 'Country': '2',\n",
       " 'East Coast': '13',\n",
       " 'Contemporary R&B': '27',\n",
       " 'Jazz': '12',\n",
       " 'Game Scores': '0',\n",
       " 'Films/Games': '0',\n",
       " 'Reggae': '5',\n",
       " 'Hard Rock': '18',\n",
       " 'Kids': '3',\n",
       " 'Dirty South': '0'}"
      ]
     },
     "execution_count": 28,
     "metadata": {},
     "output_type": "execute_result"
    }
   ],
   "source": [
    "def make_dict_from_concerts():\n",
    "    f = open('data/n_concerts.txt','r')\n",
    "    concerts_dict = {}\n",
    "    for l in f:\n",
    "        if ':' in l:\n",
    "            tuples = l.split(':')\n",
    "            concerts_dict[tuples[0]] = str(int(tuples[1]))\n",
    "    return concerts_dict\n",
    "concerts_dict = make_dict_from_concerts()\n",
    "concerts_dict"
   ]
  },
  {
   "cell_type": "code",
   "execution_count": 21,
   "metadata": {},
   "outputs": [
    {
     "data": {
      "text/html": [
       "<div>\n",
       "<style scoped>\n",
       "    .dataframe tbody tr th:only-of-type {\n",
       "        vertical-align: middle;\n",
       "    }\n",
       "\n",
       "    .dataframe tbody tr th {\n",
       "        vertical-align: top;\n",
       "    }\n",
       "\n",
       "    .dataframe thead th {\n",
       "        text-align: right;\n",
       "    }\n",
       "</style>\n",
       "<table border=\"1\" class=\"dataframe\">\n",
       "  <thead>\n",
       "    <tr style=\"text-align: right;\">\n",
       "      <th></th>\n",
       "      <th>109</th>\n",
       "      <th>115</th>\n",
       "      <th>116</th>\n",
       "      <th>117</th>\n",
       "      <th>120</th>\n",
       "      <th>0</th>\n",
       "      <th>103</th>\n",
       "      <th>123</th>\n",
       "      <th>124</th>\n",
       "      <th>126</th>\n",
       "      <th>128</th>\n",
       "      <th>130</th>\n",
       "      <th>132</th>\n",
       "      <th>133</th>\n",
       "      <th>135</th>\n",
       "    </tr>\n",
       "  </thead>\n",
       "  <tbody>\n",
       "    <tr>\n",
       "      <th>4</th>\n",
       "      <td>[47, 61, 66]</td>\n",
       "      <td>[35, 47, 62, 65, 81]</td>\n",
       "      <td>[47, 65]</td>\n",
       "      <td>[47, 65]</td>\n",
       "      <td>[23, 47]</td>\n",
       "      <td>[35, 45, 47, 61, 65, 66]</td>\n",
       "      <td>[24, 61]</td>\n",
       "      <td>[81]</td>\n",
       "      <td>[23, 47, 62, 65, 66, 81]</td>\n",
       "      <td>[14, 20, 45, 47, 65, 66, 81]</td>\n",
       "      <td>[14, 17, 47, 66, 79, 81]</td>\n",
       "      <td>[]</td>\n",
       "      <td>[45, 47, 65]</td>\n",
       "      <td>[14, 20, 22, 23, 34, 35, 45, 46, 47, 61, 62, 6...</td>\n",
       "      <td>[23, 45, 47, 65]</td>\n",
       "    </tr>\n",
       "  </tbody>\n",
       "</table>\n",
       "</div>"
      ],
      "text/plain": [
       "            109                   115       116       117       120  \\\n",
       "4  [47, 61, 66]  [35, 47, 62, 65, 81]  [47, 65]  [47, 65]  [23, 47]   \n",
       "\n",
       "                          0       103   123                       124  \\\n",
       "4  [35, 45, 47, 61, 65, 66]  [24, 61]  [81]  [23, 47, 62, 65, 66, 81]   \n",
       "\n",
       "                            126                       128 130           132  \\\n",
       "4  [14, 20, 45, 47, 65, 66, 81]  [14, 17, 47, 66, 79, 81]  []  [45, 47, 65]   \n",
       "\n",
       "                                                 133               135  \n",
       "4  [14, 20, 22, 23, 34, 35, 45, 46, 47, 61, 62, 6...  [23, 45, 47, 65]  "
      ]
     },
     "metadata": {},
     "output_type": "display_data"
    }
   ],
   "source": [
    "# generate df of friends and common genres\n",
    "def common_generes(person_id):\n",
    "    common_generes = pd.DataFrame(index = [person_id], columns=get_friends_list(person_id))\n",
    "    # common_generes = common_generes.astype('object')\n",
    "\n",
    "    # iterate columns (friends)\n",
    "    for friend in common_generes:\n",
    "        counter = 0\n",
    "        intersection = []\n",
    "        friends_prefs = get_preferences(int(friend))\n",
    "        # iterate prefs\n",
    "        for i, genre in enumerate(get_preferences(person_id)):\n",
    "            # see if both like same genre\n",
    "            if genre and friends_prefs[i]:\n",
    "                counter += 1\n",
    "                intersection.append(i)\n",
    "        common_generes.at[person_id, friend] = intersection\n",
    "    return common_generes\n",
    "\n",
    "display(common_generes(4))"
   ]
  },
  {
   "cell_type": "code",
   "execution_count": null,
   "metadata": {},
   "outputs": [],
   "source": []
  }
 ],
 "metadata": {
  "kernelspec": {
   "display_name": "Python 3.10.8 64-bit (microsoft store)",
   "language": "python",
   "name": "python3"
  },
  "language_info": {
   "codemirror_mode": {
    "name": "ipython",
    "version": 3
   },
   "file_extension": ".py",
   "mimetype": "text/x-python",
   "name": "python",
   "nbconvert_exporter": "python",
   "pygments_lexer": "ipython3",
   "version": "3.10.9"
  },
  "orig_nbformat": 4,
  "vscode": {
   "interpreter": {
    "hash": "541e896b51b936199f095fa9f652933270c17ed08d4b1543e2f5052de8d37832"
   }
  }
 },
 "nbformat": 4,
 "nbformat_minor": 2
}
